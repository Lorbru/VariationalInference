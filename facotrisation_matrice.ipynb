{
 "cells": [
  {
   "cell_type": "code",
   "execution_count": 1,
   "metadata": {},
   "outputs": [],
   "source": [
    "import numpy as np\n",
    "from advi import * \n",
    "from advi_models import * \n",
    "from sklearn.datasets import fetch_openml\n",
    "import matplotlib.pyplot as plt"
   ]
  },
  {
   "cell_type": "code",
   "execution_count": 2,
   "metadata": {},
   "outputs": [],
   "source": [
    "from sklearn.datasets import fetch_olivetti_faces\n",
    "import torch\n",
    "\n",
    "# Chargement des données\n",
    "faces = fetch_olivetti_faces()\n",
    "data = torch.from_numpy(faces.data).float()  # Shape (400, 4096)\n",
    "data = data *255.0\n",
    "data = data.to(torch.int32)\n",
    "# Redimensionnement pour NMF (exemple pour 28x20 comme Frey Faces)\n",
    "# Optionnel : réduire la résolution pour accélérer l'entraînement\n",
    "#data = data.reshape(400, 64, 64)[:, ::2, ::2].reshape(400, -1)  # Shape (400, 1024) si 32x32"
   ]
  },
  {
   "cell_type": "code",
   "execution_count": 3,
   "metadata": {},
   "outputs": [],
   "source": [
    "def plot_face(face_data, original_shape=(64, 64), resized_shape=(32, 32)):\n",
    "    plt.figure(figsize=(10, 5))\n",
    "    \n",
    "    # Image originale (64x64)\n",
    "    plt.subplot(1, 2, 1)\n",
    "    plt.imshow(face_data.reshape(original_shape), cmap='gray')\n",
    "    plt.title(f\"Original {original_shape}\")\n",
    "    plt.axis('off')\n",
    "    \n",
    "    # Image redimensionnée (32x32)\n",
    "    plt.subplot(1, 2, 2)\n",
    "    plt.imshow(face_data.reshape(original_shape)[::2, ::2], cmap='gray')  # Equivalent au redimensionnement\n",
    "    plt.title(f\"Redimensionné {resized_shape}\")\n",
    "    plt.axis('off')\n",
    "    \n",
    "    plt.tight_layout()\n",
    "    plt.show()\n"
   ]
  },
  {
   "cell_type": "code",
   "execution_count": 4,
   "metadata": {},
   "outputs": [
    {
     "data": {
      "image/png": "[encoded data removed]",
      "text/plain": [
       "<Figure size 1000x500 with 2 Axes>"
      ]
     },
     "metadata": {},
     "output_type": "display_data"
    }
   ],
   "source": [
    "plot_face(data[0], original_shape=(64, 64), resized_shape=(32, 32))"
   ]
  },
  {
   "cell_type": "code",
   "execution_count": 5,
   "metadata": {},
   "outputs": [],
   "source": [
    "# Exemple avec ConstrainedGammaPoissonNMF\n",
    "model = GammaPoissonNMF(\n",
    "    data, \n",
    "    latent_dim=10,\n",
    "    mc_size=1,  # 10 composantes comme dans l'article\n",
    "    lr=0.01,\n",
    "    max_iter=100\n",
    ")\n"
   ]
  },
  {
   "cell_type": "code",
   "execution_count": 6,
   "metadata": {},
   "outputs": [
    {
     "name": "stderr",
     "output_type": "stream",
     "text": [
      "/home/sam/Téléchargements/VariationalInference-main/advi.py:120: UserWarning: To copy construct from a tensor, it is recommended to use sourceTensor.clone().detach() or sourceTensor.clone().detach().requires_grad_(True), rather than torch.tensor(sourceTensor).\n",
      "  X = torch.tensor(X)\n",
      "  0%|          | 0/100 [00:00<?, ?it/s]/home/sam/.local/lib/python3.10/site-packages/torch/autograd/graph.py:823: UserWarning: CUDA initialization: The NVIDIA driver on your system is too old (found version 11040). Please update your GPU driver by downloading and installing a new version from the URL: http://www.nvidia.com/Download/index.aspx Alternatively, go to: https://pytorch.org to install a PyTorch version that has been compiled with your version of the CUDA driver. (Triggered internally at /pytorch/c10/cuda/CUDAFunctions.cpp:109.)\n",
      "  return Variable._execution_engine.run_backward(  # Calls into the C++ engine to run the backward pass\n",
      "  1%|          | 1/100 [00:00<00:13,  7.55it/s]"
     ]
    },
    {
     "name": "stdout",
     "output_type": "stream",
     "text": [
      "Vérification finale - W: torch.Size([4096, 10]), H: torch.Size([10, 400])\n",
      "Vérification finale - W: torch.Size([4096, 10]), H: torch.Size([10, 400])\n",
      "Vérification finale - W: torch.Size([4096, 10]), H: torch.Size([10, 400])\n"
     ]
    },
    {
     "name": "stderr",
     "output_type": "stream",
     "text": [
      "  3%|▎         | 3/100 [00:00<00:12,  8.03it/s]"
     ]
    },
    {
     "name": "stdout",
     "output_type": "stream",
     "text": [
      "Vérification finale - W: torch.Size([4096, 10]), H: torch.Size([10, 400])\n",
      "Vérification finale - W: torch.Size([4096, 10]), H: torch.Size([10, 400])\n",
      "Vérification finale - W: torch.Size([4096, 10]), H: torch.Size([10, 400])\n",
      "Vérification finale - W: torch.Size([4096, 10]), H: torch.Size([10, 400])\n"
     ]
    },
    {
     "name": "stderr",
     "output_type": "stream",
     "text": [
      "  5%|▌         | 5/100 [00:00<00:09,  9.67it/s]"
     ]
    },
    {
     "name": "stdout",
     "output_type": "stream",
     "text": [
      "Vérification finale - W: torch.Size([4096, 10]), H: torch.Size([10, 400])\n",
      "Vérification finale - W: torch.Size([4096, 10]), H: torch.Size([10, 400])\n",
      "Vérification finale - W: torch.Size([4096, 10]), H: torch.Size([10, 400])\n",
      "Vérification finale - W: torch.Size([4096, 10]), H: torch.Size([10, 400])\n",
      "Vérification finale - W: torch.Size([4096, 10]), H: torch.Size([10, 400])\n"
     ]
    },
    {
     "name": "stderr",
     "output_type": "stream",
     "text": [
      "  7%|▋         | 7/100 [00:00<00:09, 10.19it/s]"
     ]
    },
    {
     "name": "stdout",
     "output_type": "stream",
     "text": [
      "Vérification finale - W: torch.Size([4096, 10]), H: torch.Size([10, 400])\n",
      "Vérification finale - W: torch.Size([4096, 10]), H: torch.Size([10, 400])\n",
      "Vérification finale - W: torch.Size([4096, 10]), H: torch.Size([10, 400])\n",
      "Vérification finale - W: torch.Size([4096, 10]), H: torch.Size([10, 400])\n",
      "Vérification finale - W: torch.Size([4096, 10]), H: torch.Size([10, 400])\n",
      "Vérification finale - W: torch.Size([4096, 10]), H: torch.Size([10, 400])\n"
     ]
    },
    {
     "name": "stderr",
     "output_type": "stream",
     "text": [
      " 11%|█         | 11/100 [00:01<00:07, 11.96it/s]"
     ]
    },
    {
     "name": "stdout",
     "output_type": "stream",
     "text": [
      "Vérification finale - W: torch.Size([4096, 10]), H: torch.Size([10, 400])\n",
      "Vérification finale - W: torch.Size([4096, 10]), H: torch.Size([10, 400])\n",
      "Vérification finale - W: torch.Size([4096, 10]), H: torch.Size([10, 400])\n",
      "Vérification finale - W: torch.Size([4096, 10]), H: torch.Size([10, 400])\n",
      "Vérification finale - W: torch.Size([4096, 10]), H: torch.Size([10, 400])\n"
     ]
    },
    {
     "name": "stderr",
     "output_type": "stream",
     "text": [
      " 13%|█▎        | 13/100 [00:01<00:07, 11.88it/s]"
     ]
    },
    {
     "name": "stdout",
     "output_type": "stream",
     "text": [
      "Vérification finale - W: torch.Size([4096, 10]), H: torch.Size([10, 400])\n",
      "Vérification finale - W: torch.Size([4096, 10]), H: torch.Size([10, 400])\n",
      "Vérification finale - W: torch.Size([4096, 10]), H: torch.Size([10, 400])\n",
      "Vérification finale - W: torch.Size([4096, 10]), H: torch.Size([10, 400])\n",
      "Vérification finale - W: torch.Size([4096, 10]), H: torch.Size([10, 400])\n"
     ]
    },
    {
     "name": "stderr",
     "output_type": "stream",
     "text": [
      " 15%|█▌        | 15/100 [00:01<00:07, 11.18it/s]"
     ]
    },
    {
     "name": "stdout",
     "output_type": "stream",
     "text": [
      "Vérification finale - W: torch.Size([4096, 10]), H: torch.Size([10, 400])\n",
      "Vérification finale - W: torch.Size([4096, 10]), H: torch.Size([10, 400])\n",
      "Vérification finale - W: torch.Size([4096, 10]), H: torch.Size([10, 400])\n",
      "Vérification finale - W: torch.Size([4096, 10]), H: torch.Size([10, 400])\n",
      "Vérification finale - W: torch.Size([4096, 10]), H: torch.Size([10, 400])\n",
      "Vérification finale - W: torch.Size([4096, 10]), H: torch.Size([10, 400])\n"
     ]
    },
    {
     "name": "stderr",
     "output_type": "stream",
     "text": [
      " 19%|█▉        | 19/100 [00:01<00:06, 12.56it/s]"
     ]
    },
    {
     "name": "stdout",
     "output_type": "stream",
     "text": [
      "Vérification finale - W: torch.Size([4096, 10]), H: torch.Size([10, 400])\n",
      "Vérification finale - W: torch.Size([4096, 10]), H: torch.Size([10, 400])\n",
      "Vérification finale - W: torch.Size([4096, 10]), H: torch.Size([10, 400])\n",
      "Vérification finale - W: torch.Size([4096, 10]), H: torch.Size([10, 400])\n",
      "Vérification finale - W: torch.Size([4096, 10]), H: torch.Size([10, 400])\n",
      "Vérification finale - W: torch.Size([4096, 10]), H: torch.Size([10, 400])\n"
     ]
    },
    {
     "name": "stderr",
     "output_type": "stream",
     "text": [
      " 21%|██        | 21/100 [00:01<00:06, 13.13it/s]"
     ]
    },
    {
     "name": "stdout",
     "output_type": "stream",
     "text": [
      "Vérification finale - W: torch.Size([4096, 10]), H: torch.Size([10, 400])\n",
      "Vérification finale - W: torch.Size([4096, 10]), H: torch.Size([10, 400])\n",
      "Vérification finale - W: torch.Size([4096, 10]), H: torch.Size([10, 400])\n",
      "Vérification finale - W: torch.Size([4096, 10]), H: torch.Size([10, 400])\n",
      "Vérification finale - W: torch.Size([4096, 10]), H: torch.Size([10, 400])\n"
     ]
    },
    {
     "name": "stderr",
     "output_type": "stream",
     "text": [
      " 23%|██▎       | 23/100 [00:01<00:06, 12.53it/s]"
     ]
    },
    {
     "name": "stdout",
     "output_type": "stream",
     "text": [
      "Vérification finale - W: torch.Size([4096, 10]), H: torch.Size([10, 400])\n",
      "Vérification finale - W: torch.Size([4096, 10]), H: torch.Size([10, 400])\n",
      "Vérification finale - W: torch.Size([4096, 10]), H: torch.Size([10, 400])\n",
      "Vérification finale - W: torch.Size([4096, 10]), H: torch.Size([10, 400])\n"
     ]
    },
    {
     "name": "stderr",
     "output_type": "stream",
     "text": [
      " 25%|██▌       | 25/100 [00:02<00:06, 10.79it/s]"
     ]
    },
    {
     "name": "stdout",
     "output_type": "stream",
     "text": [
      "Vérification finale - W: torch.Size([4096, 10]), H: torch.Size([10, 400])\n",
      "Vérification finale - W: torch.Size([4096, 10]), H: torch.Size([10, 400])\n",
      "Vérification finale - W: torch.Size([4096, 10]), H: torch.Size([10, 400])\n",
      "Vérification finale - W: torch.Size([4096, 10]), H: torch.Size([10, 400])\n"
     ]
    },
    {
     "name": "stderr",
     "output_type": "stream",
     "text": [
      " 27%|██▋       | 27/100 [00:02<00:07, 10.37it/s]"
     ]
    },
    {
     "name": "stdout",
     "output_type": "stream",
     "text": [
      "Vérification finale - W: torch.Size([4096, 10]), H: torch.Size([10, 400])\n",
      "Vérification finale - W: torch.Size([4096, 10]), H: torch.Size([10, 400])\n",
      "Vérification finale - W: torch.Size([4096, 10]), H: torch.Size([10, 400])\n",
      "Vérification finale - W: torch.Size([4096, 10]), H: torch.Size([10, 400])\n"
     ]
    },
    {
     "name": "stderr",
     "output_type": "stream",
     "text": [
      " 31%|███       | 31/100 [00:02<00:06, 10.49it/s]"
     ]
    },
    {
     "name": "stdout",
     "output_type": "stream",
     "text": [
      "Vérification finale - W: torch.Size([4096, 10]), H: torch.Size([10, 400])\n",
      "Vérification finale - W: torch.Size([4096, 10]), H: torch.Size([10, 400])\n",
      "Vérification finale - W: torch.Size([4096, 10]), H: torch.Size([10, 400])\n",
      "Vérification finale - W: torch.Size([4096, 10]), H: torch.Size([10, 400])\n",
      "Vérification finale - W: torch.Size([4096, 10]), H: torch.Size([10, 400])\n",
      "Vérification finale - W: torch.Size([4096, 10]), H: torch.Size([10, 400])\n"
     ]
    },
    {
     "name": "stderr",
     "output_type": "stream",
     "text": [
      " 33%|███▎      | 33/100 [00:02<00:06, 11.15it/s]"
     ]
    },
    {
     "name": "stdout",
     "output_type": "stream",
     "text": [
      "Vérification finale - W: torch.Size([4096, 10]), H: torch.Size([10, 400])\n",
      "Vérification finale - W: torch.Size([4096, 10]), H: torch.Size([10, 400])\n",
      "Vérification finale - W: torch.Size([4096, 10]), H: torch.Size([10, 400])\n",
      "Vérification finale - W: torch.Size([4096, 10]), H: torch.Size([10, 400])\n",
      "Vérification finale - W: torch.Size([4096, 10]), H: torch.Size([10, 400])\n",
      "Vérification finale - W: torch.Size([4096, 10]), H: torch.Size([10, 400])\n"
     ]
    },
    {
     "name": "stderr",
     "output_type": "stream",
     "text": [
      " 37%|███▋      | 37/100 [00:03<00:05, 11.98it/s]"
     ]
    },
    {
     "name": "stdout",
     "output_type": "stream",
     "text": [
      "Vérification finale - W: torch.Size([4096, 10]), H: torch.Size([10, 400])\n",
      "Vérification finale - W: torch.Size([4096, 10]), H: torch.Size([10, 400])\n",
      "Vérification finale - W: torch.Size([4096, 10]), H: torch.Size([10, 400])\n",
      "Vérification finale - W: torch.Size([4096, 10]), H: torch.Size([10, 400])\n",
      "Vérification finale - W: torch.Size([4096, 10]), H: torch.Size([10, 400])\n",
      "Vérification finale - W: torch.Size([4096, 10]), H: torch.Size([10, 400])\n"
     ]
    },
    {
     "name": "stderr",
     "output_type": "stream",
     "text": [
      " 39%|███▉      | 39/100 [00:03<00:05, 12.11it/s]"
     ]
    },
    {
     "name": "stdout",
     "output_type": "stream",
     "text": [
      "Vérification finale - W: torch.Size([4096, 10]), H: torch.Size([10, 400])\n",
      "Vérification finale - W: torch.Size([4096, 10]), H: torch.Size([10, 400])\n",
      "Vérification finale - W: torch.Size([4096, 10]), H: torch.Size([10, 400])\n",
      "Vérification finale - W: torch.Size([4096, 10]), H: torch.Size([10, 400])\n",
      "Vérification finale - W: torch.Size([4096, 10]), H: torch.Size([10, 400])\n"
     ]
    },
    {
     "name": "stderr",
     "output_type": "stream",
     "text": [
      " 41%|████      | 41/100 [00:03<00:04, 11.90it/s]"
     ]
    },
    {
     "name": "stdout",
     "output_type": "stream",
     "text": [
      "Vérification finale - W: torch.Size([4096, 10]), H: torch.Size([10, 400])\n",
      "Vérification finale - W: torch.Size([4096, 10]), H: torch.Size([10, 400])\n",
      "Vérification finale - W: torch.Size([4096, 10]), H: torch.Size([10, 400])\n",
      "Vérification finale - W: torch.Size([4096, 10]), H: torch.Size([10, 400])\n",
      "Vérification finale - W: torch.Size([4096, 10]), H: torch.Size([10, 400])\n"
     ]
    },
    {
     "name": "stderr",
     "output_type": "stream",
     "text": [
      " 45%|████▌     | 45/100 [00:03<00:04, 12.20it/s]"
     ]
    },
    {
     "name": "stdout",
     "output_type": "stream",
     "text": [
      "Vérification finale - W: torch.Size([4096, 10]), H: torch.Size([10, 400])\n",
      "Vérification finale - W: torch.Size([4096, 10]), H: torch.Size([10, 400])\n",
      "Vérification finale - W: torch.Size([4096, 10]), H: torch.Size([10, 400])\n",
      "Vérification finale - W: torch.Size([4096, 10]), H: torch.Size([10, 400])\n",
      "Vérification finale - W: torch.Size([4096, 10]), H: torch.Size([10, 400])\n",
      "Vérification finale - W: torch.Size([4096, 10]), H: torch.Size([10, 400])\n"
     ]
    },
    {
     "name": "stderr",
     "output_type": "stream",
     "text": [
      " 47%|████▋     | 47/100 [00:04<00:04, 11.95it/s]"
     ]
    },
    {
     "name": "stdout",
     "output_type": "stream",
     "text": [
      "Vérification finale - W: torch.Size([4096, 10]), H: torch.Size([10, 400])\n",
      "Vérification finale - W: torch.Size([4096, 10]), H: torch.Size([10, 400])\n",
      "Vérification finale - W: torch.Size([4096, 10]), H: torch.Size([10, 400])\n",
      "Vérification finale - W: torch.Size([4096, 10]), H: torch.Size([10, 400])\n",
      "Vérification finale - W: torch.Size([4096, 10]), H: torch.Size([10, 400])\n"
     ]
    },
    {
     "name": "stderr",
     "output_type": "stream",
     "text": [
      " 49%|████▉     | 49/100 [00:04<00:04, 12.42it/s]"
     ]
    },
    {
     "name": "stdout",
     "output_type": "stream",
     "text": [
      "Vérification finale - W: torch.Size([4096, 10]), H: torch.Size([10, 400])\n",
      "Vérification finale - W: torch.Size([4096, 10]), H: torch.Size([10, 400])\n",
      "Vérification finale - W: torch.Size([4096, 10]), H: torch.Size([10, 400])\n",
      "Vérification finale - W: torch.Size([4096, 10]), H: torch.Size([10, 400])\n",
      "Vérification finale - W: torch.Size([4096, 10]), H: torch.Size([10, 400])\n",
      "Vérification finale - W: torch.Size([4096, 10]), H: torch.Size([10, 400])\n"
     ]
    },
    {
     "name": "stderr",
     "output_type": "stream",
     "text": [
      " 53%|█████▎    | 53/100 [00:04<00:03, 13.19it/s]"
     ]
    },
    {
     "name": "stdout",
     "output_type": "stream",
     "text": [
      "Vérification finale - W: torch.Size([4096, 10]), H: torch.Size([10, 400])\n",
      "Vérification finale - W: torch.Size([4096, 10]), H: torch.Size([10, 400])\n",
      "Vérification finale - W: torch.Size([4096, 10]), H: torch.Size([10, 400])\n",
      "Vérification finale - W: torch.Size([4096, 10]), H: torch.Size([10, 400])\n",
      "Vérification finale - W: torch.Size([4096, 10]), H: torch.Size([10, 400])\n",
      "Vérification finale - W: torch.Size([4096, 10]), H: torch.Size([10, 400])\n"
     ]
    },
    {
     "name": "stderr",
     "output_type": "stream",
     "text": [
      " 55%|█████▌    | 55/100 [00:04<00:03, 13.22it/s]"
     ]
    },
    {
     "name": "stdout",
     "output_type": "stream",
     "text": [
      "Vérification finale - W: torch.Size([4096, 10]), H: torch.Size([10, 400])\n",
      "Vérification finale - W: torch.Size([4096, 10]), H: torch.Size([10, 400])\n",
      "Vérification finale - W: torch.Size([4096, 10]), H: torch.Size([10, 400])\n",
      "Vérification finale - W: torch.Size([4096, 10]), H: torch.Size([10, 400])\n",
      "Vérification finale - W: torch.Size([4096, 10]), H: torch.Size([10, 400])\n",
      "Vérification finale - W: torch.Size([4096, 10]), H: torch.Size([10, 400])\n"
     ]
    },
    {
     "name": "stderr",
     "output_type": "stream",
     "text": [
      " 59%|█████▉    | 59/100 [00:05<00:02, 13.69it/s]"
     ]
    },
    {
     "name": "stdout",
     "output_type": "stream",
     "text": [
      "Vérification finale - W: torch.Size([4096, 10]), H: torch.Size([10, 400])\n",
      "Vérification finale - W: torch.Size([4096, 10]), H: torch.Size([10, 400])\n",
      "Vérification finale - W: torch.Size([4096, 10]), H: torch.Size([10, 400])\n",
      "Vérification finale - W: torch.Size([4096, 10]), H: torch.Size([10, 400])\n",
      "Vérification finale - W: torch.Size([4096, 10]), H: torch.Size([10, 400])\n",
      "Vérification finale - W: torch.Size([4096, 10]), H: torch.Size([10, 400])\n"
     ]
    },
    {
     "name": "stderr",
     "output_type": "stream",
     "text": [
      " 63%|██████▎   | 63/100 [00:05<00:02, 14.16it/s]"
     ]
    },
    {
     "name": "stdout",
     "output_type": "stream",
     "text": [
      "Vérification finale - W: torch.Size([4096, 10]), H: torch.Size([10, 400])\n",
      "Vérification finale - W: torch.Size([4096, 10]), H: torch.Size([10, 400])\n",
      "Vérification finale - W: torch.Size([4096, 10]), H: torch.Size([10, 400])\n",
      "Vérification finale - W: torch.Size([4096, 10]), H: torch.Size([10, 400])\n",
      "Vérification finale - W: torch.Size([4096, 10]), H: torch.Size([10, 400])\n",
      "Vérification finale - W: torch.Size([4096, 10]), H: torch.Size([10, 400])\n",
      "Vérification finale - W: torch.Size([4096, 10]), H: torch.Size([10, 400])\n"
     ]
    },
    {
     "name": "stderr",
     "output_type": "stream",
     "text": [
      " 65%|██████▌   | 65/100 [00:05<00:02, 14.33it/s]"
     ]
    },
    {
     "name": "stdout",
     "output_type": "stream",
     "text": [
      "Vérification finale - W: torch.Size([4096, 10]), H: torch.Size([10, 400])\n",
      "Vérification finale - W: torch.Size([4096, 10]), H: torch.Size([10, 400])\n",
      "Vérification finale - W: torch.Size([4096, 10]), H: torch.Size([10, 400])\n",
      "Vérification finale - W: torch.Size([4096, 10]), H: torch.Size([10, 400])\n",
      "Vérification finale - W: torch.Size([4096, 10]), H: torch.Size([10, 400])\n",
      "Vérification finale - W: torch.Size([4096, 10]), H: torch.Size([10, 400])\n"
     ]
    },
    {
     "name": "stderr",
     "output_type": "stream",
     "text": [
      " 67%|██████▋   | 67/100 [00:05<00:02, 13.98it/s]"
     ]
    },
    {
     "name": "stdout",
     "output_type": "stream",
     "text": [
      "Vérification finale - W: torch.Size([4096, 10]), H: torch.Size([10, 400])\n",
      "Vérification finale - W: torch.Size([4096, 10]), H: torch.Size([10, 400])\n",
      "Vérification finale - W: torch.Size([4096, 10]), H: torch.Size([10, 400])\n",
      "Vérification finale - W: torch.Size([4096, 10]), H: torch.Size([10, 400])\n",
      "Vérification finale - W: torch.Size([4096, 10]), H: torch.Size([10, 400])\n"
     ]
    },
    {
     "name": "stderr",
     "output_type": "stream",
     "text": [
      " 71%|███████   | 71/100 [00:05<00:02, 13.17it/s]"
     ]
    },
    {
     "name": "stdout",
     "output_type": "stream",
     "text": [
      "Vérification finale - W: torch.Size([4096, 10]), H: torch.Size([10, 400])\n",
      "Vérification finale - W: torch.Size([4096, 10]), H: torch.Size([10, 400])\n",
      "Vérification finale - W: torch.Size([4096, 10]), H: torch.Size([10, 400])\n",
      "Vérification finale - W: torch.Size([4096, 10]), H: torch.Size([10, 400])\n",
      "Vérification finale - W: torch.Size([4096, 10]), H: torch.Size([10, 400])\n",
      "Vérification finale - W: torch.Size([4096, 10]), H: torch.Size([10, 400])\n"
     ]
    },
    {
     "name": "stderr",
     "output_type": "stream",
     "text": [
      " 73%|███████▎  | 73/100 [00:06<00:02, 13.22it/s]"
     ]
    },
    {
     "name": "stdout",
     "output_type": "stream",
     "text": [
      "Vérification finale - W: torch.Size([4096, 10]), H: torch.Size([10, 400])\n",
      "Vérification finale - W: torch.Size([4096, 10]), H: torch.Size([10, 400])\n",
      "Vérification finale - W: torch.Size([4096, 10]), H: torch.Size([10, 400])\n",
      "Vérification finale - W: torch.Size([4096, 10]), H: torch.Size([10, 400])\n"
     ]
    },
    {
     "name": "stderr",
     "output_type": "stream",
     "text": [
      " 75%|███████▌  | 75/100 [00:06<00:02, 12.06it/s]"
     ]
    },
    {
     "name": "stdout",
     "output_type": "stream",
     "text": [
      "Vérification finale - W: torch.Size([4096, 10]), H: torch.Size([10, 400])\n",
      "Vérification finale - W: torch.Size([4096, 10]), H: torch.Size([10, 400])\n",
      "Vérification finale - W: torch.Size([4096, 10]), H: torch.Size([10, 400])\n",
      "Vérification finale - W: torch.Size([4096, 10]), H: torch.Size([10, 400])\n",
      "Vérification finale - W: torch.Size([4096, 10]), H: torch.Size([10, 400])\n",
      "Vérification finale - W: torch.Size([4096, 10]), H: torch.Size([10, 400])\n"
     ]
    },
    {
     "name": "stderr",
     "output_type": "stream",
     "text": [
      " 79%|███████▉  | 79/100 [00:06<00:01, 12.41it/s]"
     ]
    },
    {
     "name": "stdout",
     "output_type": "stream",
     "text": [
      "Vérification finale - W: torch.Size([4096, 10]), H: torch.Size([10, 400])\n",
      "Vérification finale - W: torch.Size([4096, 10]), H: torch.Size([10, 400])\n",
      "Vérification finale - W: torch.Size([4096, 10]), H: torch.Size([10, 400])\n",
      "Vérification finale - W: torch.Size([4096, 10]), H: torch.Size([10, 400])\n",
      "Vérification finale - W: torch.Size([4096, 10]), H: torch.Size([10, 400])\n",
      "Vérification finale - W: torch.Size([4096, 10]), H: torch.Size([10, 400])\n"
     ]
    },
    {
     "name": "stderr",
     "output_type": "stream",
     "text": [
      " 81%|████████  | 81/100 [00:06<00:01, 12.94it/s]"
     ]
    },
    {
     "name": "stdout",
     "output_type": "stream",
     "text": [
      "Vérification finale - W: torch.Size([4096, 10]), H: torch.Size([10, 400])\n",
      "Vérification finale - W: torch.Size([4096, 10]), H: torch.Size([10, 400])\n",
      "Vérification finale - W: torch.Size([4096, 10]), H: torch.Size([10, 400])\n",
      "Vérification finale - W: torch.Size([4096, 10]), H: torch.Size([10, 400])\n",
      "Vérification finale - W: torch.Size([4096, 10]), H: torch.Size([10, 400])\n",
      "Vérification finale - W: torch.Size([4096, 10]), H: torch.Size([10, 400])\n"
     ]
    },
    {
     "name": "stderr",
     "output_type": "stream",
     "text": [
      " 85%|████████▌ | 85/100 [00:06<00:01, 13.22it/s]"
     ]
    },
    {
     "name": "stdout",
     "output_type": "stream",
     "text": [
      "Vérification finale - W: torch.Size([4096, 10]), H: torch.Size([10, 400])\n",
      "Vérification finale - W: torch.Size([4096, 10]), H: torch.Size([10, 400])\n",
      "Vérification finale - W: torch.Size([4096, 10]), H: torch.Size([10, 400])\n",
      "Vérification finale - W: torch.Size([4096, 10]), H: torch.Size([10, 400])\n",
      "Vérification finale - W: torch.Size([4096, 10]), H: torch.Size([10, 400])\n",
      "Vérification finale - W: torch.Size([4096, 10]), H: torch.Size([10, 400])\n"
     ]
    },
    {
     "name": "stderr",
     "output_type": "stream",
     "text": [
      " 87%|████████▋ | 87/100 [00:07<00:00, 13.12it/s]"
     ]
    },
    {
     "name": "stdout",
     "output_type": "stream",
     "text": [
      "Vérification finale - W: torch.Size([4096, 10]), H: torch.Size([10, 400])\n",
      "Vérification finale - W: torch.Size([4096, 10]), H: torch.Size([10, 400])\n",
      "Vérification finale - W: torch.Size([4096, 10]), H: torch.Size([10, 400])\n",
      "Vérification finale - W: torch.Size([4096, 10]), H: torch.Size([10, 400])\n",
      "Vérification finale - W: torch.Size([4096, 10]), H: torch.Size([10, 400])\n"
     ]
    },
    {
     "name": "stderr",
     "output_type": "stream",
     "text": [
      " 91%|█████████ | 91/100 [00:07<00:00, 13.51it/s]"
     ]
    },
    {
     "name": "stdout",
     "output_type": "stream",
     "text": [
      "Vérification finale - W: torch.Size([4096, 10]), H: torch.Size([10, 400])\n",
      "Vérification finale - W: torch.Size([4096, 10]), H: torch.Size([10, 400])\n",
      "Vérification finale - W: torch.Size([4096, 10]), H: torch.Size([10, 400])\n",
      "Vérification finale - W: torch.Size([4096, 10]), H: torch.Size([10, 400])\n",
      "Vérification finale - W: torch.Size([4096, 10]), H: torch.Size([10, 400])\n",
      "Vérification finale - W: torch.Size([4096, 10]), H: torch.Size([10, 400])\n"
     ]
    },
    {
     "name": "stderr",
     "output_type": "stream",
     "text": [
      " 93%|█████████▎| 93/100 [00:07<00:00, 13.94it/s]"
     ]
    },
    {
     "name": "stdout",
     "output_type": "stream",
     "text": [
      "Vérification finale - W: torch.Size([4096, 10]), H: torch.Size([10, 400])\n",
      "Vérification finale - W: torch.Size([4096, 10]), H: torch.Size([10, 400])\n",
      "Vérification finale - W: torch.Size([4096, 10]), H: torch.Size([10, 400])\n",
      "Vérification finale - W: torch.Size([4096, 10]), H: torch.Size([10, 400])\n",
      "Vérification finale - W: torch.Size([4096, 10]), H: torch.Size([10, 400])\n",
      "Vérification finale - W: torch.Size([4096, 10]), H: torch.Size([10, 400])\n",
      "Vérification finale - W: torch.Size([4096, 10]), H: torch.Size([10, 400])\n"
     ]
    },
    {
     "name": "stderr",
     "output_type": "stream",
     "text": [
      " 97%|█████████▋| 97/100 [00:07<00:00, 13.79it/s]"
     ]
    },
    {
     "name": "stdout",
     "output_type": "stream",
     "text": [
      "Vérification finale - W: torch.Size([4096, 10]), H: torch.Size([10, 400])\n",
      "Vérification finale - W: torch.Size([4096, 10]), H: torch.Size([10, 400])\n",
      "Vérification finale - W: torch.Size([4096, 10]), H: torch.Size([10, 400])\n",
      "Vérification finale - W: torch.Size([4096, 10]), H: torch.Size([10, 400])\n",
      "Vérification finale - W: torch.Size([4096, 10]), H: torch.Size([10, 400])\n"
     ]
    },
    {
     "name": "stderr",
     "output_type": "stream",
     "text": [
      " 99%|█████████▉| 99/100 [00:08<00:00, 12.52it/s]"
     ]
    },
    {
     "name": "stdout",
     "output_type": "stream",
     "text": [
      "Vérification finale - W: torch.Size([4096, 10]), H: torch.Size([10, 400])\n",
      "Vérification finale - W: torch.Size([4096, 10]), H: torch.Size([10, 400])\n",
      "Vérification finale - W: torch.Size([4096, 10]), H: torch.Size([10, 400])\n",
      "Vérification finale - W: torch.Size([4096, 10]), H: torch.Size([10, 400])\n"
     ]
    },
    {
     "name": "stderr",
     "output_type": "stream",
     "text": [
      "100%|██████████| 100/100 [00:08<00:00, 12.28it/s]"
     ]
    },
    {
     "name": "stdout",
     "output_type": "stream",
     "text": [
      "Vérification finale - W: torch.Size([4096, 10]), H: torch.Size([10, 400])\n"
     ]
    },
    {
     "name": "stderr",
     "output_type": "stream",
     "text": [
      "\n"
     ]
    }
   ],
   "source": [
    "model.fit(data)\n",
    "\n"
   ]
  },
  {
   "cell_type": "code",
   "execution_count": 9,
   "metadata": {},
   "outputs": [
    {
     "name": "stdout",
     "output_type": "stream",
     "text": [
      "Vérification finale - W: torch.Size([4096, 10]), H: torch.Size([10, 400])\n"
     ]
    },
    {
     "data": {
      "text/plain": [
       "(tensor([[1.2220, 1.2825, 1.3691,  ..., 1.2950, 1.2702, 1.4199],\n",
       "         [1.4773, 1.3435, 1.3432,  ..., 1.4108, 1.3004, 1.2694],\n",
       "         [1.3780, 1.3646, 1.3948,  ..., 1.3396, 1.4165, 1.4281],\n",
       "         ...,\n",
       "         [1.2423, 1.4029, 1.2271,  ..., 1.1940, 1.3044, 1.3018],\n",
       "         [1.1947, 1.2251, 1.3477,  ..., 1.3573, 1.3113, 1.3317],\n",
       "         [1.3134, 1.3971, 1.3333,  ..., 1.3437, 1.1833, 1.2862]]),\n",
       " tensor([[1.3958, 1.3448, 1.2720,  ..., 1.3011, 1.3058, 1.2549],\n",
       "         [1.4138, 1.2458, 1.2960,  ..., 1.3605, 1.2704, 1.3682],\n",
       "         [1.2098, 1.2558, 1.3438,  ..., 1.4260, 1.4520, 1.3349],\n",
       "         ...,\n",
       "         [1.3157, 1.3022, 1.5009,  ..., 1.2270, 1.3274, 1.4467],\n",
       "         [1.4192, 1.3413, 1.3407,  ..., 1.3483, 1.4549, 1.3412],\n",
       "         [1.2681, 1.3327, 1.3120,  ..., 1.4921, 1.3036, 1.2252]]))"
      ]
     },
     "execution_count": 9,
     "metadata": {},
     "output_type": "execute_result"
    }
   ],
   "source": [
    "model.theta_estimates()"
   ]
  },
  {
   "cell_type": "code",
   "execution_count": 10,
   "metadata": {},
   "outputs": [
    {
     "name": "stdout",
     "output_type": "stream",
     "text": [
      "Vérification finale - W: torch.Size([4096, 10]), H: torch.Size([10, 400])\n"
     ]
    }
   ],
   "source": [
    "W, H = model.theta_estimates()"
   ]
  },
  {
   "cell_type": "code",
   "execution_count": 11,
   "metadata": {},
   "outputs": [
    {
     "name": "stdout",
     "output_type": "stream",
     "text": [
      "Shape de W: torch.Size([4096, 10])\n",
      "Shape de H: torch.Size([10, 400])\n"
     ]
    }
   ],
   "source": [
    "print(\"Shape de W:\", W.shape)  # Devrait être [4096, 10] (si latent_dim=10)\n",
    "print(\"Shape de H:\", H.shape)  # Devrait être [10, n_samples] (ex: [10, 400])"
   ]
  },
  {
   "cell_type": "code",
   "execution_count": 14,
   "metadata": {},
   "outputs": [
    {
     "name": "stdout",
     "output_type": "stream",
     "text": [
      "tensor([], size=(10, 0))\n"
     ]
    }
   ],
   "source": [
    "print(H)"
   ]
  },
  {
   "cell_type": "code",
   "execution_count": 12,
   "metadata": {},
   "outputs": [],
   "source": [
    "# Reconstruction (approximation WH)\n",
    "reconstructed = torch.mm(W, H)  # [n_features, n_samples]"
   ]
  },
  {
   "cell_type": "code",
   "execution_count": 12,
   "metadata": {},
   "outputs": [
    {
     "name": "stdout",
     "output_type": "stream",
     "text": [
      "tensor([], size=(4096, 0))\n"
     ]
    }
   ],
   "source": [
    "print(reconstructed)"
   ]
  },
  {
   "cell_type": "code",
   "execution_count": 13,
   "metadata": {},
   "outputs": [
    {
     "ename": "RuntimeError",
     "evalue": "shape '[28, 20]' is invalid for input of size 4096",
     "output_type": "error",
     "traceback": [
      "\u001b[0;31m---------------------------------------------------------------------------\u001b[0m",
      "\u001b[0;31mRuntimeError\u001b[0m                              Traceback (most recent call last)",
      "Cell \u001b[0;32mIn[13], line 3\u001b[0m\n\u001b[1;32m      1\u001b[0m \u001b[38;5;66;03m# Frey Faces: reshape en 28x20 pixels\u001b[39;00m\n\u001b[1;32m      2\u001b[0m image_id \u001b[38;5;241m=\u001b[39m \u001b[38;5;241m0\u001b[39m  \u001b[38;5;66;03m# Index de l'image à visualiser\u001b[39;00m\n\u001b[0;32m----> 3\u001b[0m image \u001b[38;5;241m=\u001b[39m \u001b[43mreconstructed\u001b[49m\u001b[43m[\u001b[49m\u001b[43m:\u001b[49m\u001b[43m,\u001b[49m\u001b[43m \u001b[49m\u001b[43mimage_id\u001b[49m\u001b[43m]\u001b[49m\u001b[38;5;241;43m.\u001b[39;49m\u001b[43mreshape\u001b[49m\u001b[43m(\u001b[49m\u001b[38;5;241;43m28\u001b[39;49m\u001b[43m,\u001b[49m\u001b[43m \u001b[49m\u001b[38;5;241;43m20\u001b[39;49m\u001b[43m)\u001b[49m  \u001b[38;5;66;03m# Adaptez aux dimensions de votre dataset\u001b[39;00m\n\u001b[1;32m      5\u001b[0m plt\u001b[38;5;241m.\u001b[39mimshow(image\u001b[38;5;241m.\u001b[39mdetach()\u001b[38;5;241m.\u001b[39mnumpy(), cmap\u001b[38;5;241m=\u001b[39m\u001b[38;5;124m'\u001b[39m\u001b[38;5;124mgray\u001b[39m\u001b[38;5;124m'\u001b[39m)\n\u001b[1;32m      6\u001b[0m plt\u001b[38;5;241m.\u001b[39mtitle(\u001b[38;5;124mf\u001b[39m\u001b[38;5;124m\"\u001b[39m\u001b[38;5;124mImage reconstruite \u001b[39m\u001b[38;5;132;01m{\u001b[39;00mimage_id\u001b[38;5;132;01m}\u001b[39;00m\u001b[38;5;124m\"\u001b[39m)\n",
      "\u001b[0;31mRuntimeError\u001b[0m: shape '[28, 20]' is invalid for input of size 4096"
     ]
    }
   ],
   "source": [
    "# Frey Faces: reshape en 28x20 pixels\n",
    "image_id = 0  # Index de l'image à visualiser\n",
    "image = reconstructed[:, image_id].reshape(28, 20)  # Adaptez aux dimensions de votre dataset\n",
    "\n",
    "plt.imshow(image.detach().numpy(), cmap='gray')\n",
    "plt.title(f\"Image reconstruite {image_id}\")\n",
    "plt.axis('off')\n",
    "plt.show()"
   ]
  }
 ],
 "metadata": {
  "kernelspec": {
   "display_name": "Python 3",
   "language": "python",
   "name": "python3"
  },
  "language_info": {
   "codemirror_mode": {
    "name": "ipython",
    "version": 3
   },
   "file_extension": ".py",
   "mimetype": "text/x-python",
   "name": "python",
   "nbconvert_exporter": "python",
   "pygments_lexer": "ipython3",
   "version": "3.10.12"
  }
 },
 "nbformat": 4,
 "nbformat_minor": 2
}
